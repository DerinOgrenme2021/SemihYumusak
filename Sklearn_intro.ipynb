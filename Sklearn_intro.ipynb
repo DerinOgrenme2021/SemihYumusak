{
  "nbformat": 4,
  "nbformat_minor": 0,
  "metadata": {
    "colab": {
      "name": "Sklearn_intro.ipynb",
      "provenance": [],
      "authorship_tag": "ABX9TyPeSGe3i7HIevSEQK/EkUnR",
      "include_colab_link": true
    },
    "kernelspec": {
      "name": "python3",
      "display_name": "Python 3"
    },
    "language_info": {
      "name": "python"
    }
  },
  "cells": [
    {
      "cell_type": "markdown",
      "metadata": {
        "id": "view-in-github",
        "colab_type": "text"
      },
      "source": [
        "<a href=\"https://colab.research.google.com/github/DerinOgrenme2021/SemihYumusak/blob/main/Sklearn_intro.ipynb\" target=\"_parent\"><img src=\"https://colab.research.google.com/assets/colab-badge.svg\" alt=\"Open In Colab\"/></a>"
      ]
    },
    {
      "cell_type": "code",
      "metadata": {
        "id": "JAWA7QN_2Jnu",
        "colab": {
          "base_uri": "https://localhost:8080/"
        },
        "outputId": "9fd6b69f-6883-492f-b886-f4d31222cc91"
      },
      "source": [
        "import seaborn as sns\n",
        "iris = sns.load_dataset('iris')\n",
        "iris[\"species\"].unique()"
      ],
      "execution_count": 3,
      "outputs": [
        {
          "output_type": "execute_result",
          "data": {
            "text/plain": [
              "array(['setosa', 'versicolor', 'virginica'], dtype=object)"
            ]
          },
          "metadata": {
            "tags": []
          },
          "execution_count": 3
        }
      ]
    },
    {
      "cell_type": "code",
      "metadata": {
        "id": "7oTIOL_pFsK-"
      },
      "source": [
        "import seaborn as sns; sns.set()\n",
        "sns.pairplot(iris, hue=\"species\", size=1.5)"
      ],
      "execution_count": null,
      "outputs": []
    },
    {
      "cell_type": "code",
      "metadata": {
        "colab": {
          "base_uri": "https://localhost:8080/"
        },
        "id": "iN9Ty1yoGt9z",
        "outputId": "5807c453-11ab-4b33-cfbe-8a5d8d5a8e1c"
      },
      "source": [
        "iris.shape"
      ],
      "execution_count": 5,
      "outputs": [
        {
          "output_type": "execute_result",
          "data": {
            "text/plain": [
              "(150, 5)"
            ]
          },
          "metadata": {
            "tags": []
          },
          "execution_count": 5
        }
      ]
    },
    {
      "cell_type": "code",
      "metadata": {
        "colab": {
          "base_uri": "https://localhost:8080/"
        },
        "id": "W1baqxJVGV2g",
        "outputId": "b1b2ee41-c7c9-4395-c300-69a6066c4bb5"
      },
      "source": [
        "X_iris = iris.drop(\"species\", axis =1)\n",
        "X_iris.shape\n",
        "type(X_iris)"
      ],
      "execution_count": 7,
      "outputs": [
        {
          "output_type": "execute_result",
          "data": {
            "text/plain": [
              "pandas.core.frame.DataFrame"
            ]
          },
          "metadata": {
            "tags": []
          },
          "execution_count": 7
        }
      ]
    },
    {
      "cell_type": "code",
      "metadata": {
        "colab": {
          "base_uri": "https://localhost:8080/"
        },
        "id": "sl8xV-6-G_yc",
        "outputId": "69498269-d444-450d-c418-69eb788de039"
      },
      "source": [
        "y_iris = iris[\"species\"]\n",
        "y_iris.shape"
      ],
      "execution_count": 8,
      "outputs": [
        {
          "output_type": "execute_result",
          "data": {
            "text/plain": [
              "(150,)"
            ]
          },
          "metadata": {
            "tags": []
          },
          "execution_count": 8
        }
      ]
    },
    {
      "cell_type": "code",
      "metadata": {
        "colab": {
          "base_uri": "https://localhost:8080/"
        },
        "id": "PxT9dVrQHZDJ",
        "outputId": "ce890c56-9095-4463-97dd-93a9dab7176f"
      },
      "source": [
        "from sklearn.naive_bayes import GaussianNB\n",
        "\n",
        "model = GaussianNB()\n",
        "model.fit(X_iris,y_iris)\n"
      ],
      "execution_count": 9,
      "outputs": [
        {
          "output_type": "execute_result",
          "data": {
            "text/plain": [
              "GaussianNB(priors=None, var_smoothing=1e-09)"
            ]
          },
          "metadata": {
            "tags": []
          },
          "execution_count": 9
        }
      ]
    },
    {
      "cell_type": "code",
      "metadata": {
        "colab": {
          "base_uri": "https://localhost:8080/"
        },
        "id": "jRqXwtTaH8Ea",
        "outputId": "141cac39-938b-4f40-daad-715e729d4a69"
      },
      "source": [
        "y_predicted = model.predict(X_iris)\n",
        "from sklearn.metrics import accuracy_score\n",
        "\n",
        "accuracy_score(y_predicted, y_iris)"
      ],
      "execution_count": 11,
      "outputs": [
        {
          "output_type": "execute_result",
          "data": {
            "text/plain": [
              "0.96"
            ]
          },
          "metadata": {
            "tags": []
          },
          "execution_count": 11
        }
      ]
    },
    {
      "cell_type": "code",
      "metadata": {
        "id": "CvNxEO95KM5A"
      },
      "source": [
        "import matplotlib.pyplot as plt\n",
        "import numpy as np"
      ],
      "execution_count": 13,
      "outputs": []
    },
    {
      "cell_type": "code",
      "metadata": {
        "id": "E4t8dQhcKNTx"
      },
      "source": [
        "rng = np.random.RandomState(42)\n",
        "x = 10 * rng.rand(100)\n",
        "y = 3 * x - 5 +rng.randn(100)*2"
      ],
      "execution_count": 29,
      "outputs": []
    },
    {
      "cell_type": "code",
      "metadata": {
        "colab": {
          "base_uri": "https://localhost:8080/"
        },
        "id": "A5Ft22aAKNbh",
        "outputId": "f3e5a267-86e7-4474-8ead-57cf62e99a2d"
      },
      "source": [
        "y"
      ],
      "execution_count": 18,
      "outputs": [
        {
          "output_type": "execute_result",
          "data": {
            "text/plain": [
              "array([ 6.32325063, 23.22242184, 17.05157903, 10.97218561, -0.53911267,\n",
              "        0.03694818, -1.77959759, 20.46701415, 12.22495675, 15.74042029,\n",
              "       -3.46706305, 24.42604667, 19.44351902,  1.88344075,  0.55182657,\n",
              "        1.47078029,  3.42521419, 10.4150308 ,  7.56624241,  2.27335926,\n",
              "       13.65170712, -0.55412891,  3.76945291,  5.75626817,  7.26672878,\n",
              "       18.13463352,  0.64749895,  9.62475588, 12.61115135, -3.20243676,\n",
              "       15.11253146,  0.29030152, -2.79090182, 23.3921202 , 22.05018978,\n",
              "       19.22540657,  4.19864329,  0.39340553, 15.33462983,  8.50612215,\n",
              "       -1.37356472,  8.68662927, -2.82552155, 23.0315451 ,  3.5544314 ,\n",
              "       13.96628108,  5.75412659,  9.20018957, 11.98816547,  2.73608929,\n",
              "       23.09700251, 17.68768697, 23.28461961, 21.34134486, 11.38633593,\n",
              "       22.72479003, -3.40752865,  1.3530783 , -4.56260557,  6.30984433,\n",
              "        5.8770654 ,  2.81840944, 20.67564249,  4.47173548,  3.65549523,\n",
              "       12.58802525, -2.37975649, 19.25054328, -2.5035979 , 25.38843097,\n",
              "       16.93039237, -0.35898617, -4.31239492, 19.76082753, 16.45621317,\n",
              "       17.21666325, 17.45808568, -2.54640675,  6.04704433, -2.23827963,\n",
              "       22.75887729, 14.17277673,  3.73563725, -2.43669588,  3.35478798,\n",
              "        5.54258426, 18.04678093, 13.30604182, 22.57975841,  9.57922868,\n",
              "       -0.59011246, 18.2941366 , 17.57816334, 11.08457976, 17.23950097,\n",
              "        8.99805761, 10.60488317,  8.16738253, -3.9607354 , -0.93607394])"
            ]
          },
          "metadata": {
            "tags": []
          },
          "execution_count": 18
        }
      ]
    },
    {
      "cell_type": "code",
      "metadata": {
        "colab": {
          "base_uri": "https://localhost:8080/",
          "height": 285
        },
        "id": "qsTnHQ6ULC3S",
        "outputId": "749fb62e-3b21-4074-85f8-127e813f4da8"
      },
      "source": [
        "plt.scatter(x,y)"
      ],
      "execution_count": 21,
      "outputs": [
        {
          "output_type": "execute_result",
          "data": {
            "text/plain": [
              "<matplotlib.collections.PathCollection at 0x7f8a29d3bf10>"
            ]
          },
          "metadata": {
            "tags": []
          },
          "execution_count": 21
        },
        {
          "output_type": "display_data",
          "data": {
            "image/png": "[encoded data removed]",
            "text/plain": [
              "<Figure size 432x288 with 1 Axes>"
            ]
          },
          "metadata": {
            "tags": []
          }
        }
      ]
    },
    {
      "cell_type": "code",
      "metadata": {
        "id": "tPzICIX-LQXI"
      },
      "source": [
        "from sklearn.linear_model import LinearRegression\n",
        "\n",
        "model = LinearRegression (fit_intercept=True)\n",
        "x_ = x[:, np.newaxis]\n",
        "x_"
      ],
      "execution_count": null,
      "outputs": []
    },
    {
      "cell_type": "code",
      "metadata": {
        "colab": {
          "base_uri": "https://localhost:8080/",
          "height": 285
        },
        "id": "MaSwV0UeLgx-",
        "outputId": "2d0ca8da-c10c-4761-f33d-6a519f22a4fc"
      },
      "source": [
        "model.fit(x_,y)\n",
        "\n",
        "y_predicted = model.predict(x_)\n",
        "\n",
        "plt.scatter(x,y)\n",
        "plt.plot(x,y_predicted)\n",
        "\n",
        "print(model.predict ([[6]]))"
      ],
      "execution_count": 35,
      "outputs": [
        {
          "output_type": "stream",
          "text": [
            "[12.87846444]\n"
          ],
          "name": "stdout"
        },
        {
          "output_type": "display_data",
          "data": {
            "image/png": "[encoded data removed]",
            "text/plain": [
              "<Figure size 432x288 with 1 Axes>"
            ]
          },
          "metadata": {
            "tags": []
          }
        }
      ]
    }
  ]
}