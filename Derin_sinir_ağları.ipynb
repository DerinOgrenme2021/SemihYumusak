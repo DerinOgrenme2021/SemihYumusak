{
  "nbformat": 4,
  "nbformat_minor": 0,
  "metadata": {
    "colab": {
      "name": "Derin sinir ağları.ipynb",
      "provenance": [],
      "collapsed_sections": [
        "UkuDw10ndl0a",
        "FSzQJgZXgD8f",
        "l_DyPcOEjn6L",
        "ipmcbTjtpyha",
        "2OOg3Hdd0Hs_",
        "_b2TDnJg4snQ",
        "FDYO1__1tf9o",
        "fylbo4I8vI4O",
        "Lq_XnKB25ovo",
        "gJO6K3ZY6D2p",
        "y4X25CPN7gh7"
      ],
      "include_colab_link": true
    },
    "kernelspec": {
      "name": "python3",
      "display_name": "Python 3"
    },
    "accelerator": "GPU"
  },
  "cells": [
    {
      "cell_type": "markdown",
      "metadata": {
        "id": "view-in-github",
        "colab_type": "text"
      },
      "source": [
        "<a href=\"https://colab.research.google.com/github/DerinOgrenme2021/SemihYumusak/blob/main/Derin_sinir_a%C4%9Flar%C4%B1.ipynb\" target=\"_parent\"><img src=\"https://colab.research.google.com/assets/colab-badge.svg\" alt=\"Open In Colab\"/></a>"
      ]
    },
    {
      "cell_type": "markdown",
      "metadata": {
        "id": "HKfCNmQchg9E"
      },
      "source": [
        "# EBMYL-526 / Derin Öğrenme \n",
        "## **Derin Sinir Ağları Örneği**\n"
      ]
    },
    {
      "cell_type": "markdown",
      "metadata": {
        "id": "jMwg3nvWkU_R"
      },
      "source": [
        "Derin öğrenme fikri, [Andrew NG](https://en.wikipedia.org/wiki/Andrew_Ng)  tarafından şu şekilde tasvir edilmiştir:\n",
        ">Beyin simülasyonlarını, şu ümitlerle kullanmak: \n",
        "*   Öğrenme algoritmalarını daha iyi ve daha kolay kullanılabilir kılmak.\n",
        "*   Makine öğrenimi ve yapay zeka alanında devrim niteliğinde ilerlemeler yapmak.\n",
        "\n",
        "ve son olarak demiştir ki:\n",
        ">Bunun gerçek yapay zekaya doğru ilerlememiz için en iyi şansımız olduğuna inanıyorum.\n",
        "\n",
        "Andrew'a göre derin öğrenmenin özü, günümüzde büyük sinir ağlarını eğitmek için yeterince hızlı bilgisayarlara ve yeterli veriye sahip olduğumuzdur. Geçmişte, makine öğrenmesi ve derin öğrenme alanlarındaki çalışmalar teorik olarak yapılmıştır. Ancak bilgisayar teknolojisinin ve eğitim için kullanılabilecek verilerin yetersizliğinden dolayı pratik çalışmalar gerçekleştirilememiştir. Günümüzde ise, aslında bilgisayar oyuncuları sayesinde gelişmiş olan ekran kartı teknolojisi ile derin öğrenmenin partik bir şekilde de uygulanması mümkün olmuştur. \n",
        "\n",
        "### **Peki, derin öğrenmeyi derin yapan nedir?**\n",
        "\"Derin öğrenme\" içindeki \"derin\" kelimesi, verinin dönüştürüldüğü (işlendiği) katman sayısını ifade eder. Yıllar boyunca bilgisayar gücünün yetersizliğinden dolayı yapılan çalışmalarda ya teorik ya da sadece bir kaç (3) katmandan oluşan eğitim modelleri kullanılmıştır. Katmanların sayıca az olması, eğitilmiş olan yapay zekaların \"zeka\" olarak çok kısıtlı olmalarına ve kompleks bilgileri algılayamamalarına neden olmuştur. Günümüzde ise; 10+ 100+ ve hatta 1000+ kadar katmanlar, yapay zeka eğitimlerinde kullanılabilmektedir. Bu sayede yapay zekalar sadece lineer ilişkileri değil, aynı zamanda daha kompleks ve lineer olmayan ilişkileride tespit edebilmektedir. (Örneğin sadece düz bir çizgiyi değil eğime sahip bir kedi kulağı...)\n",
        "\n",
        ">![Deep vs Non-deep](https://i.stack.imgur.com/OH3gI.png)\n"
      ]
    },
    {
      "cell_type": "markdown",
      "metadata": {
        "id": "o-ni0jUQS6IZ"
      },
      "source": [
        "## **Bu not defterlerinde (Jupyter Notebook) kullanılan kütüphaneler**\n",
        "Bu ve bunun devamında gelecek olan not defterlende [numpy](https://numpy.org/), [scikit-learn](https://scikit-learn.org/stable/), [matplotlib](https://matplotlib.org/), [tensorflow](https://www.tensorflow.org/) ve [keras](https://keras.io/) gibi bir çok Python kütüphanesi kullanılacaktır. Python'da kütüphane deyince akla, kullanıma hazır fonksiyonların bulunduğu kaynaklar gelmelidir. Bu fonksiyonların kullanıma hazır olması sizin nasıl kullanabileceğinizi kesin sınırlarla belirlemez. Yani; sizin bu fonksiyonları belli bir sıraya göre kullanmanız durumunda \"şu\" olur, ama kullanmazsanız \"şu\" olmaz diye genel geçer bir kural yoktur. Kütüphaneler sadece basit birer araçtır. Zaten herkes tarafından bilinen ve genel geçer kabul edilmiş olan matematiksel formülleri, yapıları, vb. sizin için kullanıma sunar ve boşuna kafa yormanızın (vakit kaybetmenizin) önüne geçer. Böylelikle asıl problemlere yoğunlaşabilir ve daha fazla vakit ayırabilirsiniz. \n",
        "\n",
        "**Uzun lafın kısası: Amerika'yı yeniden keşfetmek istemiyorsanız kütüphaneleri kullanın ve Plütona ve hatta ötesine ulaşın!**"
      ]
    },
    {
      "cell_type": "markdown",
      "metadata": {
        "id": "UYThiuF5XB9X"
      },
      "source": [
        "## **Derin Yapay Sinir Ağı Örneği**\n"
      ]
    },
    {
      "cell_type": "markdown",
      "metadata": {
        "id": "euUoCZta9gLO"
      },
      "source": [
        "Bu defterde artık kült denilebilecek bir veri seti olan \"*Titanic: Machine Learning from Disaster*\" (Titanik: Bir Faciadan Makine Öğrenmesi) kullanılmıştır. Veri setinde 15 Nisan 1912 tarihinde \"[*Not even God himself could sink this ship.*](https://www.archives.gov/exhibits/american_originals/titanic.html)\" (Tanrının kendisi bile bu gemiyi batıramaz) denilen Titanik gemisinin bir buz dağı ile çarpışması sonucu yaşanan faciadan türetilmiştir. Gemide yeterli sayıda kurtarma botu olmaması nedeniyle 2224 yolcudan 1502'si ölmüştür. \n",
        "## **Verinin Özeti**\n",
        "Veri seti hali hazırda \"train.csv\" (eğitim) ve \"test.csv\" şeklinde iki farklı CSV dosyasına ayırılmıştır. Veri seti İngilizce'dir. Veri setinde bulunan özellikler:\n",
        "\n",
        ">Değişken | Tanım | Anahtar\n",
        ">--- | --- | ---\n",
        ">survival | Hayatta Kalma | 0 = Hayır, 1 = Evet\n",
        ">pclass | Bilet Sınıfı | 1 = 1. Sınıf, 2 = 2. Sınıf, 3 = 3.Sınıf\n",
        ">sex | Cinsiyet |\n",
        ">Age | Yaş |\n",
        ">sibsp | Eş ve kardeş sayısı |\n",
        ">parch | Ebeveyn ve çocuk sayısı |\n",
        ">ticket | Bilet Numarası|\n",
        ">fare | Yolcu Ücreti |\n",
        ">cabin | Kabin Numarası |\n",
        ">embarked | Gemiye Yükleme Limanı | C = Cherbourg, Q = Queenstown, S = Southampton\n",
        "## **Soru: Ne tür insanların hayatta kalma olasılığı daha yüksekti?**\n",
        "\n",
        "Bu not defteri ile başlıkta belirtilen sorunun cevabını bulabilen bir derin sinir ağı örneği gösterilmiştir."
      ]
    },
    {
      "cell_type": "markdown",
      "metadata": {
        "id": "UkuDw10ndl0a"
      },
      "source": [
        "### **Gerekli Kütüphanelerin İçe Aktarılması (Çağırılması)**\n",
        "\n",
        "Not: Burada hangi kütüphaneyi çağırmanız gerektiğini algoritmayı tasarlarken keşfedecek ve her kütüphane ihtiyacınız olduğunda buraya ekleme yapacaksınız. Kimse daha en baştan \"şu, bu, o\" kütüphaneleri kesinlikle gerekli, bunları hemen \"import\" edeyim diyemez. "
      ]
    },
    {
      "cell_type": "code",
      "metadata": {
        "id": "xnt5Vnjaeaf2"
      },
      "source": [
        "import os\n",
        "import pandas as pd\n",
        "import numpy as np\n",
        "import seaborn as sb\n",
        "import matplotlib.pyplot as plt\n",
        "import seaborn as sns\n",
        "import logging\n",
        "plt.style.use('fivethirtyeight')\n",
        "import warnings\n",
        "warnings.filterwarnings('ignore')\n",
        "from sklearn.preprocessing import OneHotEncoder, LabelEncoder, StandardScaler, MinMaxScaler\n",
        "from sklearn.model_selection import train_test_split\n",
        "from sklearn.metrics import confusion_matrix, classification_report, accuracy_score\n",
        "from tensorflow.python.keras.layers import Dense\n",
        "from tensorflow.python.keras import Sequential\n",
        "from IPython.display import HTML, display\n",
        "%matplotlib inline"
      ],
      "execution_count": 1,
      "outputs": []
    },
    {
      "cell_type": "code",
      "metadata": {
        "id": "z46DI4IRZPpZ"
      },
      "source": [
        ""
      ],
      "execution_count": null,
      "outputs": []
    },
    {
      "cell_type": "markdown",
      "metadata": {
        "id": "FSzQJgZXgD8f"
      },
      "source": [
        "### **Veri setinin Python ortamına aktarılması**"
      ]
    },
    {
      "cell_type": "code",
      "metadata": {
        "id": "kDKrLllHhPoP",
        "colab": {
          "base_uri": "https://localhost:8080/",
          "height": 449
        },
        "outputId": "625c34bf-4021-46cd-9c6d-9707ff3a102a"
      },
      "source": [
        "# Aşağıdaki iki komut CSV dosyalarından veriyi almak içindir.\n",
        "try:\n",
        "  train_dataset_raw = pd.read_csv('/content/train.csv')\n",
        "except FileNotFoundError:\n",
        "  logging.error(\"'train.csv' dosyası bulunamadı. Lütfen dosya yolunun kod satırında doğru\"\n",
        "  \" verildiğini kontrol ediniz. Eğer elinizde vei setleri yok ise şuradan\"\n",
        "  \" indirebilirsiniz: https://drive.google.com/open?id=1bMnRXtlwlJFdL69SqQtX8DekaL3utEpN\"\n",
        "  \" İndirme işleminden sonra Google Colab ortamına yüklemeyi unutmayınız.\")\n",
        "  os._exit(1)\n",
        "try:\n",
        "  test_dataset = pd.read_csv('/content/test.csv')\n",
        "except FileNotFoundError:\n",
        "  logging.error(\"'train.csv' dosyası bulunamadı. Lütfen dosya yolunun kod satırında doğru\"\n",
        "  \" verildiğini kontrol ediniz. Eğer elinizde vei setleri yok ise şuradan\"\n",
        "  \" indirebilirsiniz: https://drive.google.com/open?id=1bMnRXtlwlJFdL69SqQtX8DekaL3utEpN\"\n",
        "  \" İndirme işleminden sonra Google Colab ortamına yüklemeyi unutmayınız.\")\n",
        "  os._exit(1)\n",
        "# Eğitim setinin bir kopyasını oluşturuyoruz. Değişikleri bu kopya üzerinde \n",
        "# yapacağız ve orijinal eğitim verisine dokunmamış olacağız.\n",
        "train_dataset = train_dataset_raw.copy(deep = True)\n",
        "\n",
        "# Bu adımda ise eğitim ve test veri setleri tek bir liste içinde toplanmıştır.\n",
        "# Böylelikle yapılacak değişiklikler tek tek değil hep birden olacaktır.\n",
        "data_cleaner = [train_dataset, test_dataset]\n",
        "\n",
        "# Eğitim veri kümesiyle ilgili genel ayrıntıları görüntüler.\n",
        "train_dataset_raw.describe(include = 'all')"
      ],
      "execution_count": 2,
      "outputs": [
        {
          "output_type": "execute_result",
          "data": {
            "text/html": [
              "<div>\n",
              "<style scoped>\n",
              "    .dataframe tbody tr th:only-of-type {\n",
              "        vertical-align: middle;\n",
              "    }\n",
              "\n",
              "    .dataframe tbody tr th {\n",
              "        vertical-align: top;\n",
              "    }\n",
              "\n",
              "    .dataframe thead th {\n",
              "        text-align: right;\n",
              "    }\n",
              "</style>\n",
              "<table border=\"1\" class=\"dataframe\">\n",
              "  <thead>\n",
              "    <tr style=\"text-align: right;\">\n",
              "      <th></th>\n",
              "      <th>PassengerId</th>\n",
              "      <th>Survived</th>\n",
              "      <th>Pclass</th>\n",
              "      <th>Name</th>\n",
              "      <th>Sex</th>\n",
              "      <th>Age</th>\n",
              "      <th>SibSp</th>\n",
              "      <th>Parch</th>\n",
              "      <th>Ticket</th>\n",
              "      <th>Fare</th>\n",
              "      <th>Cabin</th>\n",
              "      <th>Embarked</th>\n",
              "    </tr>\n",
              "  </thead>\n",
              "  <tbody>\n",
              "    <tr>\n",
              "      <th>count</th>\n",
              "      <td>891.000000</td>\n",
              "      <td>891.000000</td>\n",
              "      <td>891.000000</td>\n",
              "      <td>891</td>\n",
              "      <td>891</td>\n",
              "      <td>714.000000</td>\n",
              "      <td>891.000000</td>\n",
              "      <td>891.000000</td>\n",
              "      <td>891</td>\n",
              "      <td>891.000000</td>\n",
              "      <td>204</td>\n",
              "      <td>889</td>\n",
              "    </tr>\n",
              "    <tr>\n",
              "      <th>unique</th>\n",
              "      <td>NaN</td>\n",
              "      <td>NaN</td>\n",
              "      <td>NaN</td>\n",
              "      <td>891</td>\n",
              "      <td>2</td>\n",
              "      <td>NaN</td>\n",
              "      <td>NaN</td>\n",
              "      <td>NaN</td>\n",
              "      <td>681</td>\n",
              "      <td>NaN</td>\n",
              "      <td>147</td>\n",
              "      <td>3</td>\n",
              "    </tr>\n",
              "    <tr>\n",
              "      <th>top</th>\n",
              "      <td>NaN</td>\n",
              "      <td>NaN</td>\n",
              "      <td>NaN</td>\n",
              "      <td>Karaic, Mr. Milan</td>\n",
              "      <td>male</td>\n",
              "      <td>NaN</td>\n",
              "      <td>NaN</td>\n",
              "      <td>NaN</td>\n",
              "      <td>347082</td>\n",
              "      <td>NaN</td>\n",
              "      <td>B96 B98</td>\n",
              "      <td>S</td>\n",
              "    </tr>\n",
              "    <tr>\n",
              "      <th>freq</th>\n",
              "      <td>NaN</td>\n",
              "      <td>NaN</td>\n",
              "      <td>NaN</td>\n",
              "      <td>1</td>\n",
              "      <td>577</td>\n",
              "      <td>NaN</td>\n",
              "      <td>NaN</td>\n",
              "      <td>NaN</td>\n",
              "      <td>7</td>\n",
              "      <td>NaN</td>\n",
              "      <td>4</td>\n",
              "      <td>644</td>\n",
              "    </tr>\n",
              "    <tr>\n",
              "      <th>mean</th>\n",
              "      <td>446.000000</td>\n",
              "      <td>0.383838</td>\n",
              "      <td>2.308642</td>\n",
              "      <td>NaN</td>\n",
              "      <td>NaN</td>\n",
              "      <td>29.699118</td>\n",
              "      <td>0.523008</td>\n",
              "      <td>0.381594</td>\n",
              "      <td>NaN</td>\n",
              "      <td>32.204208</td>\n",
              "      <td>NaN</td>\n",
              "      <td>NaN</td>\n",
              "    </tr>\n",
              "    <tr>\n",
              "      <th>std</th>\n",
              "      <td>257.353842</td>\n",
              "      <td>0.486592</td>\n",
              "      <td>0.836071</td>\n",
              "      <td>NaN</td>\n",
              "      <td>NaN</td>\n",
              "      <td>14.526497</td>\n",
              "      <td>1.102743</td>\n",
              "      <td>0.806057</td>\n",
              "      <td>NaN</td>\n",
              "      <td>49.693429</td>\n",
              "      <td>NaN</td>\n",
              "      <td>NaN</td>\n",
              "    </tr>\n",
              "    <tr>\n",
              "      <th>min</th>\n",
              "      <td>1.000000</td>\n",
              "      <td>0.000000</td>\n",
              "      <td>1.000000</td>\n",
              "      <td>NaN</td>\n",
              "      <td>NaN</td>\n",
              "      <td>0.420000</td>\n",
              "      <td>0.000000</td>\n",
              "      <td>0.000000</td>\n",
              "      <td>NaN</td>\n",
              "      <td>0.000000</td>\n",
              "      <td>NaN</td>\n",
              "      <td>NaN</td>\n",
              "    </tr>\n",
              "    <tr>\n",
              "      <th>25%</th>\n",
              "      <td>223.500000</td>\n",
              "      <td>0.000000</td>\n",
              "      <td>2.000000</td>\n",
              "      <td>NaN</td>\n",
              "      <td>NaN</td>\n",
              "      <td>20.125000</td>\n",
              "      <td>0.000000</td>\n",
              "      <td>0.000000</td>\n",
              "      <td>NaN</td>\n",
              "      <td>7.910400</td>\n",
              "      <td>NaN</td>\n",
              "      <td>NaN</td>\n",
              "    </tr>\n",
              "    <tr>\n",
              "      <th>50%</th>\n",
              "      <td>446.000000</td>\n",
              "      <td>0.000000</td>\n",
              "      <td>3.000000</td>\n",
              "      <td>NaN</td>\n",
              "      <td>NaN</td>\n",
              "      <td>28.000000</td>\n",
              "      <td>0.000000</td>\n",
              "      <td>0.000000</td>\n",
              "      <td>NaN</td>\n",
              "      <td>14.454200</td>\n",
              "      <td>NaN</td>\n",
              "      <td>NaN</td>\n",
              "    </tr>\n",
              "    <tr>\n",
              "      <th>75%</th>\n",
              "      <td>668.500000</td>\n",
              "      <td>1.000000</td>\n",
              "      <td>3.000000</td>\n",
              "      <td>NaN</td>\n",
              "      <td>NaN</td>\n",
              "      <td>38.000000</td>\n",
              "      <td>1.000000</td>\n",
              "      <td>0.000000</td>\n",
              "      <td>NaN</td>\n",
              "      <td>31.000000</td>\n",
              "      <td>NaN</td>\n",
              "      <td>NaN</td>\n",
              "    </tr>\n",
              "    <tr>\n",
              "      <th>max</th>\n",
              "      <td>891.000000</td>\n",
              "      <td>1.000000</td>\n",
              "      <td>3.000000</td>\n",
              "      <td>NaN</td>\n",
              "      <td>NaN</td>\n",
              "      <td>80.000000</td>\n",
              "      <td>8.000000</td>\n",
              "      <td>6.000000</td>\n",
              "      <td>NaN</td>\n",
              "      <td>512.329200</td>\n",
              "      <td>NaN</td>\n",
              "      <td>NaN</td>\n",
              "    </tr>\n",
              "  </tbody>\n",
              "</table>\n",
              "</div>"
            ],
            "text/plain": [
              "        PassengerId    Survived      Pclass  ...        Fare    Cabin  Embarked\n",
              "count    891.000000  891.000000  891.000000  ...  891.000000      204       889\n",
              "unique          NaN         NaN         NaN  ...         NaN      147         3\n",
              "top             NaN         NaN         NaN  ...         NaN  B96 B98         S\n",
              "freq            NaN         NaN         NaN  ...         NaN        4       644\n",
              "mean     446.000000    0.383838    2.308642  ...   32.204208      NaN       NaN\n",
              "std      257.353842    0.486592    0.836071  ...   49.693429      NaN       NaN\n",
              "min        1.000000    0.000000    1.000000  ...    0.000000      NaN       NaN\n",
              "25%      223.500000    0.000000    2.000000  ...    7.910400      NaN       NaN\n",
              "50%      446.000000    0.000000    3.000000  ...   14.454200      NaN       NaN\n",
              "75%      668.500000    1.000000    3.000000  ...   31.000000      NaN       NaN\n",
              "max      891.000000    1.000000    3.000000  ...  512.329200      NaN       NaN\n",
              "\n",
              "[11 rows x 12 columns]"
            ]
          },
          "metadata": {
            "tags": []
          },
          "execution_count": 2
        }
      ]
    },
    {
      "cell_type": "code",
      "metadata": {
        "id": "Pxm3h0yDZMxy",
        "colab": {
          "base_uri": "https://localhost:8080/"
        },
        "outputId": "14c1e51f-2e54-4ff2-85aa-bccd85fa4756"
      },
      "source": [
        "print (train_dataset)"
      ],
      "execution_count": 3,
      "outputs": [
        {
          "output_type": "stream",
          "text": [
            "     PassengerId  Survived  Pclass  ...     Fare Cabin  Embarked\n",
            "0              1         0       3  ...   7.2500   NaN         S\n",
            "1              2         1       1  ...  71.2833   C85         C\n",
            "2              3         1       3  ...   7.9250   NaN         S\n",
            "3              4         1       1  ...  53.1000  C123         S\n",
            "4              5         0       3  ...   8.0500   NaN         S\n",
            "..           ...       ...     ...  ...      ...   ...       ...\n",
            "886          887         0       2  ...  13.0000   NaN         S\n",
            "887          888         1       1  ...  30.0000   B42         S\n",
            "888          889         0       3  ...  23.4500   NaN         S\n",
            "889          890         1       1  ...  30.0000  C148         C\n",
            "890          891         0       3  ...   7.7500   NaN         Q\n",
            "\n",
            "[891 rows x 12 columns]\n"
          ],
          "name": "stdout"
        }
      ]
    },
    {
      "cell_type": "markdown",
      "metadata": {
        "id": "SPRbpgzuhBrc"
      },
      "source": [
        "Görülebileceği gibi veri setinde \"NaN\" (not a number - sayı değil) ifadesi bulunmaktadır. Bunlar veri setinde bilinmeyenleri temsil eder. Bu tarz boşluklar, makine öğrenmesinde hem modelin eğitiminde hem de test edilmesinde zorluklar ortaya çıkarır. Bunlardan kurtulmak için iki temel yöntem bulunmaktadır. Bu boşluklar çeşitli matematiksel yöntemler (ortlama, median, vb) ile doldurulabileceği gibi basit bir şekilde göz ardı edilebilir. Hangi yöntemin daha faydalı olacağı veri setine ve problemin doğasına bağlıdır. "
      ]
    },
    {
      "cell_type": "code",
      "metadata": {
        "id": "kECwiG0Oh_VY",
        "colab": {
          "base_uri": "https://localhost:8080/"
        },
        "outputId": "97a9a82a-c150-439f-aaca-d40f902b1459"
      },
      "source": [
        "# Eğitim setinde boşluk olan özellikler ve sayısı\n",
        "print(train_dataset.isnull().sum())\n",
        "print ('-'*10)\n",
        "# Test setinde boşluk olan özellikler ve sayısı\n",
        "print (test_dataset.isnull().sum())"
      ],
      "execution_count": 6,
      "outputs": [
        {
          "output_type": "stream",
          "text": [
            "PassengerId      0\n",
            "Survived         0\n",
            "Pclass           0\n",
            "Name             0\n",
            "Sex              0\n",
            "Age              0\n",
            "SibSp            0\n",
            "Parch            0\n",
            "Ticket           0\n",
            "Fare             0\n",
            "Cabin          687\n",
            "Embarked         0\n",
            "dtype: int64\n",
            "----------\n",
            "PassengerId      0\n",
            "Pclass           0\n",
            "Name             0\n",
            "Sex              0\n",
            "Age              0\n",
            "SibSp            0\n",
            "Parch            0\n",
            "Ticket           0\n",
            "Fare             0\n",
            "Cabin          327\n",
            "Embarked         0\n",
            "dtype: int64\n"
          ],
          "name": "stdout"
        }
      ]
    },
    {
      "cell_type": "markdown",
      "metadata": {
        "id": "lNBxuN0jiVW9"
      },
      "source": [
        "**Temizlik**"
      ]
    },
    {
      "cell_type": "code",
      "metadata": {
        "id": "_Gv6ZR9diWcE"
      },
      "source": [
        "# Bu \"for\" döngüsü hem eğitim hem de test veri setlerini temizler.\n",
        "# data_cleaner: list\n",
        "#  Eğitim ve test veri setlerinin bulunduğu liste\n",
        "\n",
        "for dataset in data_cleaner:  \n",
        "  # Eksik \"yaş\" verilerini median ile doldurma  \n",
        "  dataset['Age'].fillna(dataset['Age'].median(), inplace = True)\n",
        "\n",
        "  # Eksik \"Liman\" bilgisini mod ile doldurma\n",
        "  dataset['Embarked'].fillna(dataset['Embarked'].mode()[0], inplace = True)\n",
        "\n",
        "  # Eksik \"Yolcu ücreti\" verilerinin median ile doldurma\n",
        "  dataset['Fare'].fillna(dataset['Fare'].median(), inplace = True)"
      ],
      "execution_count": 5,
      "outputs": []
    },
    {
      "cell_type": "markdown",
      "metadata": {
        "id": "l_DyPcOEjn6L"
      },
      "source": [
        "### **Feature Engineering (Özellik Mühendisliği)**\n"
      ]
    },
    {
      "cell_type": "code",
      "metadata": {
        "id": "_fPwOFvalQpv"
      },
      "source": [
        "for dataset in data_cleaner:    \n",
        "    \n",
        "    # \"CabinBool\" isimli bir kolon ekler. \"NaN\" değerleri \"0\", kabin numaraları ise \"1\" değiştirilmiştir.\n",
        "    dataset['CabinBool'] = (dataset['Cabin'].notnull().astype('int'))\n",
        "    \n",
        "    # \"FamilySize\" isimli bir kolon ekler. Aile kişi sayısını eş, kardeş (sibsp) ile ebeveyn ve çocuk sayısını (parch) sayısını kullanır.\n",
        "    dataset['FamilySize'] = dataset ['SibSp'] + dataset['Parch'] + 1\n",
        "\n",
        "    dataset['IsAlone'] = 1 ##\"IsAlone\" kolonu: Kişi yalnız mı?\n",
        "    dataset['IsAlone'].loc[dataset['FamilySize'] > 1] = 0 # \"FamilySize\" 1 den büyükse \"0\" (yalnız değil), küçükse \"1\" (yalnız) yaz.\n",
        "\n",
        "    # Kişi isimlerinde bulunan Mr. Mrs Capt. gibi (bay, bayan, kaptan) başıklarını ayır ve \"Title\" kolonuna kaydet.\n",
        "    dataset['Title'] = dataset['Name'].str.split(\", \", expand=True)[1].str.split(\".\", expand=True)[0]\n",
        "\n",
        "    #Continuous variable bins; qcut vs cut: https://stackoverflow.com/questions/30211923/what-is-the-difference-between-pandas-qcut-and-pandas-cut\n",
        "    #Fare Bins/Buckets using qcut or frequency bins: https://pandas.pydata.org/pandas-docs/stable/generated/pandas.qcut.html\n",
        "    #This will create a Fare Slab according to no. provided. In our case we want '4' Fare Slab.\n",
        "    #dataset['FareBin'] = pd.qcut(dataset['Fare'], 4)\n",
        "\n",
        "    \n",
        "    #Age Bins/Buckets using cut or value bins: https://pandas.pydata.org/pandas-docs/stable/generated/pandas.cut.html\n",
        "    #Same goes with here, we will have 6 Age categories.\n",
        "    #dataset['AgeBin'] = pd.cut(dataset['Age'].astype(int), 6)"
      ],
      "execution_count": 8,
      "outputs": []
    },
    {
      "cell_type": "code",
      "metadata": {
        "id": "936iqPUbnUgW",
        "colab": {
          "base_uri": "https://localhost:8080/"
        },
        "outputId": "1ebc2620-54f5-40a5-dc41-bbe197d2aec5"
      },
      "source": [
        "# Oluşturulmuş olan \"Title\" kolunu buna benziyor.\n",
        "train_dataset.sample(10)\n",
        "print(train_dataset['Title'].value_counts())"
      ],
      "execution_count": 10,
      "outputs": [
        {
          "output_type": "stream",
          "text": [
            "Mr              517\n",
            "Miss            182\n",
            "Mrs             125\n",
            "Master           40\n",
            "Dr                7\n",
            "Rev               6\n",
            "Mlle              2\n",
            "Col               2\n",
            "Major             2\n",
            "Capt              1\n",
            "Lady              1\n",
            "Don               1\n",
            "Sir               1\n",
            "Mme               1\n",
            "Jonkheer          1\n",
            "the Countess      1\n",
            "Ms                1\n",
            "Name: Title, dtype: int64\n"
          ],
          "name": "stdout"
        }
      ]
    },
    {
      "cell_type": "markdown",
      "metadata": {
        "id": "3X8QylGEnpGt"
      },
      "source": [
        "***Title*** kolonuna bakıldığında çok çeşitli ünvanların var olduğu görünmektedir. Aşağıdaki kod ile bunlardan sayısı 10'dan daha az olanlar \"Misc\" (Çeşitli) kolonu altında toplanmıştır. Bunun nedeni ise bu ünvanların sayıca az olması ve sadece bu ünvana sahip 1 kişiye bakmanın faydasız olması. Örneğin sadece 1 kişi kaptan. Kaptanın ölmüş ya da ölmemiş olması o ünvana sahip birisinin öleceği veya ölmeyeceği anlamına gelmiyor. Çünkü sadece 1 kişi kaptan! Yani bu spesifik bilgi bir bizim sormuş olduğumuz asıl soru için bir anlam ifade etmiyor."
      ]
    },
    {
      "cell_type": "code",
      "metadata": {
        "id": "i0X8EYVRni4K",
        "colab": {
          "base_uri": "https://localhost:8080/"
        },
        "outputId": "d270318d-69c1-41f3-b935-87d5d82e1ff4"
      },
      "source": [
        "# Sayıca \"az\" olmak göreceli bir kavram. Bu nedenle yaygın ve istatiksel olarak kabul görmüş 10, az olarak kabul edilmiştir.\n",
        "# http://nicholasjjackson.com/2012/03/08/sample-size-is-10-a-magic-number/\n",
        "stat_min = 10 \n",
        "# \"True/False\" serisi 10'dan küçük mü büyük mü sorusu sorularak oluşturulmuştur.\n",
        "title_names = (train_dataset['Title'].value_counts() < stat_min) \n",
        "\n",
        "# Eğer \"Title\" kolonundaki değer \"True\" ise o değeri \"misc\" kolonuna ekle. Değilse dokunma!\n",
        "train_dataset['Title'] = train_dataset['Title'].apply(lambda x: 'Misc' if title_names.loc[x] == True else x)\n",
        "print(train_dataset['Title'].value_counts())\n",
        "print(\"-\"*10)\n",
        "title_namest = (test_dataset['Title'].value_counts() < stat_min)\n",
        "test_dataset['Title'] = test_dataset['Title'].apply(lambda x: 'Misc' if title_namest.loc[x] == True else x)"
      ],
      "execution_count": 11,
      "outputs": [
        {
          "output_type": "stream",
          "text": [
            "Mr        517\n",
            "Miss      182\n",
            "Mrs       125\n",
            "Master     40\n",
            "Misc       27\n",
            "Name: Title, dtype: int64\n",
            "----------\n"
          ],
          "name": "stdout"
        }
      ]
    },
    {
      "cell_type": "markdown",
      "metadata": {
        "id": "ipmcbTjtpyha"
      },
      "source": [
        "### **Korelasyon**"
      ]
    },
    {
      "cell_type": "markdown",
      "metadata": {
        "id": "IhYbk9PW9NF1"
      },
      "source": [
        "Aşağıda görünen korelasyon matrisi, özelliklerin birbirleri olan ilişkilerine anlamak için yaratılmıştır. Korelasyon -1 ile +1 arasında değişen sayısal bir değerdir. \n",
        "\n",
        "-1: Mükemmel negatif korelasyonu ifade eder.\n",
        "\n",
        "+1: Mükemmel pozitif korelasyonu ifade eder.\n",
        "\n",
        "0: Korelasyon olmadığını ifade eder.\n",
        "\n",
        "-1 ve +1'e çok yakın korelasyona sahip olan özelliklerden sadece 1 tanesinin veri setinde kalması gereklidir. Aksi takdirde aynı şeyi anlatan 2 özellik gereksiz yere eğitim sürecini uzatır ve hatta ezberlemeye (over fitting) neden olabilir. İşte, tam olarak hangi özelliklerin veri setinde kalacağına ya da hangi özelliklerin silineceğine karar vermek için korelasyon matrisi kullanılır."
      ]
    },
    {
      "cell_type": "code",
      "metadata": {
        "id": "Vrnsv929RqIx"
      },
      "source": [
        "train_dataset"
      ],
      "execution_count": null,
      "outputs": []
    },
    {
      "cell_type": "code",
      "metadata": {
        "id": "YI1CUgXscIUv",
        "colab": {
          "base_uri": "https://localhost:8080/"
        },
        "outputId": "a55031cf-d1db-4e92-b6cd-721c038b92c4"
      },
      "source": [
        "print(train_dataset.corr())"
      ],
      "execution_count": 12,
      "outputs": [
        {
          "output_type": "stream",
          "text": [
            "             PassengerId  Survived    Pclass  ...  CabinBool  FamilySize   IsAlone\n",
            "PassengerId     1.000000 -0.005007 -0.035144  ...   0.019919   -0.040143  0.057462\n",
            "Survived       -0.005007  1.000000 -0.338481  ...   0.316912    0.016639 -0.203367\n",
            "Pclass         -0.035144 -0.338481  1.000000  ...  -0.725541    0.065997  0.135207\n",
            "Age             0.034212 -0.064910 -0.339898  ...   0.240314   -0.245619  0.171647\n",
            "SibSp          -0.057527 -0.035322  0.083081  ...  -0.040460    0.890712 -0.584471\n",
            "Parch          -0.001652  0.081629  0.018443  ...   0.036987    0.783111 -0.583398\n",
            "Fare            0.012658  0.257307 -0.549500  ...   0.482075    0.217138 -0.271832\n",
            "CabinBool       0.019919  0.316912 -0.725541  ...   1.000000   -0.009175 -0.158029\n",
            "FamilySize     -0.040143  0.016639  0.065997  ...  -0.009175    1.000000 -0.690922\n",
            "IsAlone         0.057462 -0.203367  0.135207  ...  -0.158029   -0.690922  1.000000\n",
            "\n",
            "[10 rows x 10 columns]\n"
          ],
          "name": "stdout"
        }
      ]
    },
    {
      "cell_type": "code",
      "metadata": {
        "id": "BA1mhMvUpuhR",
        "colab": {
          "base_uri": "https://localhost:8080/",
          "height": 534
        },
        "outputId": "4d1a3e3f-e5a6-4472-8aaf-bfda6c8ec1d2"
      },
      "source": [
        "sns.heatmap(train_dataset.corr(),annot=True,cmap='RdYlGn',linewidths=0.2) #data.corr()-->correlation matrix\n",
        "fig=plt.gcf()\n",
        "fig.set_size_inches(10,8)\n",
        "plt.show()"
      ],
      "execution_count": 13,
      "outputs": [
        {
          "output_type": "display_data",
          "data": {
            "image/png": "[encoded data removed]",
            "text/plain": [
              "<Figure size 720x576 with 2 Axes>"
            ]
          },
          "metadata": {
            "tags": [],
            "needs_background": "light"
          }
        }
      ]
    },
    {
      "cell_type": "code",
      "metadata": {
        "id": "pRKXfl2WrEgj",
        "colab": {
          "base_uri": "https://localhost:8080/",
          "height": 258
        },
        "outputId": "d70e99d7-4027-49ed-c82f-e926426a2b22"
      },
      "source": [
        "features_col=['Pclass','Sex','Embarked','IsAlone','Title','Age','FamilySize','Fare','CabinBool']\n",
        "train_ds = train_dataset[features_col]\n",
        "test_ds = test_dataset[features_col]\n",
        "train_label = train_dataset['Survived']\n",
        "print(train_ds.columns)\n",
        "train_ds.head()"
      ],
      "execution_count": 16,
      "outputs": [
        {
          "output_type": "stream",
          "text": [
            "Index(['Pclass', 'Sex', 'Embarked', 'IsAlone', 'Title', 'Age', 'FamilySize',\n",
            "       'Fare', 'CabinBool'],\n",
            "      dtype='object')\n"
          ],
          "name": "stdout"
        },
        {
          "output_type": "execute_result",
          "data": {
            "text/html": [
              "<div>\n",
              "<style scoped>\n",
              "    .dataframe tbody tr th:only-of-type {\n",
              "        vertical-align: middle;\n",
              "    }\n",
              "\n",
              "    .dataframe tbody tr th {\n",
              "        vertical-align: top;\n",
              "    }\n",
              "\n",
              "    .dataframe thead th {\n",
              "        text-align: right;\n",
              "    }\n",
              "</style>\n",
              "<table border=\"1\" class=\"dataframe\">\n",
              "  <thead>\n",
              "    <tr style=\"text-align: right;\">\n",
              "      <th></th>\n",
              "      <th>Pclass</th>\n",
              "      <th>Sex</th>\n",
              "      <th>Embarked</th>\n",
              "      <th>IsAlone</th>\n",
              "      <th>Title</th>\n",
              "      <th>Age</th>\n",
              "      <th>FamilySize</th>\n",
              "      <th>Fare</th>\n",
              "      <th>CabinBool</th>\n",
              "    </tr>\n",
              "  </thead>\n",
              "  <tbody>\n",
              "    <tr>\n",
              "      <th>0</th>\n",
              "      <td>3</td>\n",
              "      <td>male</td>\n",
              "      <td>S</td>\n",
              "      <td>0</td>\n",
              "      <td>Mr</td>\n",
              "      <td>22.0</td>\n",
              "      <td>2</td>\n",
              "      <td>7.2500</td>\n",
              "      <td>0</td>\n",
              "    </tr>\n",
              "    <tr>\n",
              "      <th>1</th>\n",
              "      <td>1</td>\n",
              "      <td>female</td>\n",
              "      <td>C</td>\n",
              "      <td>0</td>\n",
              "      <td>Mrs</td>\n",
              "      <td>38.0</td>\n",
              "      <td>2</td>\n",
              "      <td>71.2833</td>\n",
              "      <td>1</td>\n",
              "    </tr>\n",
              "    <tr>\n",
              "      <th>2</th>\n",
              "      <td>3</td>\n",
              "      <td>female</td>\n",
              "      <td>S</td>\n",
              "      <td>1</td>\n",
              "      <td>Miss</td>\n",
              "      <td>26.0</td>\n",
              "      <td>1</td>\n",
              "      <td>7.9250</td>\n",
              "      <td>0</td>\n",
              "    </tr>\n",
              "    <tr>\n",
              "      <th>3</th>\n",
              "      <td>1</td>\n",
              "      <td>female</td>\n",
              "      <td>S</td>\n",
              "      <td>0</td>\n",
              "      <td>Mrs</td>\n",
              "      <td>35.0</td>\n",
              "      <td>2</td>\n",
              "      <td>53.1000</td>\n",
              "      <td>1</td>\n",
              "    </tr>\n",
              "    <tr>\n",
              "      <th>4</th>\n",
              "      <td>3</td>\n",
              "      <td>male</td>\n",
              "      <td>S</td>\n",
              "      <td>1</td>\n",
              "      <td>Mr</td>\n",
              "      <td>35.0</td>\n",
              "      <td>1</td>\n",
              "      <td>8.0500</td>\n",
              "      <td>0</td>\n",
              "    </tr>\n",
              "  </tbody>\n",
              "</table>\n",
              "</div>"
            ],
            "text/plain": [
              "   Pclass     Sex Embarked  IsAlone Title   Age  FamilySize     Fare  CabinBool\n",
              "0       3    male        S        0    Mr  22.0           2   7.2500          0\n",
              "1       1  female        C        0   Mrs  38.0           2  71.2833          1\n",
              "2       3  female        S        1  Miss  26.0           1   7.9250          0\n",
              "3       1  female        S        0   Mrs  35.0           2  53.1000          1\n",
              "4       3    male        S        1    Mr  35.0           1   8.0500          0"
            ]
          },
          "metadata": {
            "tags": []
          },
          "execution_count": 16
        }
      ]
    },
    {
      "cell_type": "markdown",
      "metadata": {
        "id": "2OOg3Hdd0Hs_"
      },
      "source": [
        "### One hot encoding"
      ]
    },
    {
      "cell_type": "code",
      "metadata": {
        "id": "Mi0U22nG0Jxm"
      },
      "source": [
        "one_hot_encoded_training_predictors = pd.get_dummies(train_ds)\n",
        "one_hot_encoded_testing_predictors = pd.get_dummies(test_ds) # Aslında hiç kullanmıyoruz bunu"
      ],
      "execution_count": 17,
      "outputs": []
    },
    {
      "cell_type": "markdown",
      "metadata": {
        "id": "_b2TDnJg4snQ"
      },
      "source": [
        "### Scaling (Ölçeklendirme)\n"
      ]
    },
    {
      "cell_type": "markdown",
      "metadata": {
        "id": "rfXDIfm48-1G"
      },
      "source": [
        "Derin öğrenme modellerinde kullanılan modeller, kullanılan veri seti içindeki verilerin birimlerini bilemezler. Birimleri ihmal ederek sadece sayısal değerleri kullanırlar. Örneğin; 5 kilogram ve 5000 gram gerçek dünyada aynı şeyi ifade etselerde 5000 gram sayısal olarak daha büyük bir ifade olduğu için daha fazla ağırlığa (weight) sahip olacaktır ve çok farklı sonuçlar elde edilecektir. Bu etkiyi bastırmak için, tüm özellikleri aynı büyüklük seviyesine getirmeliyiz. Bu ise ölçekleme (scaling) ile sağlanabilir."
      ]
    },
    {
      "cell_type": "code",
      "metadata": {
        "id": "Ptve8rd-4ntf"
      },
      "source": [
        "training_scaler = StandardScaler()\n",
        "one_hot_encoded_training_predictors = training_scaler.fit_transform(one_hot_encoded_training_predictors)\n",
        "\n",
        "test_scaler = StandardScaler()\n",
        "one_hot_encoded_testing_predictors = training_scaler.fit_transform(one_hot_encoded_testing_predictors) # Aslında hiç kullanmıyoruz bunu "
      ],
      "execution_count": null,
      "outputs": []
    },
    {
      "cell_type": "markdown",
      "metadata": {
        "id": "FDYO1__1tf9o"
      },
      "source": [
        "### **Veri setinin eğitim ve test için ayrılması**\n"
      ]
    },
    {
      "cell_type": "markdown",
      "metadata": {
        "id": "qMdYPQDD871-"
      },
      "source": [
        "Bu adımda elimizde bulunan veri setini tekrar \"eğitim\" ve \"test\" için ikiye ayıracağız. Aklınıza \"Ama zaten bizim test verimiz vardı. Neden test için tekrar veriye ihtiyacımız var?\" sorusu gelebilir. Eğer orijinal test verisine bakacak olursanız orada bulunan kişilerin kurtulup kurtulamadıkları bilgisi yer almamaktadır. Bu bilgi sadece orijinal eğitim setinde bulunmaktadır. Bu nedenle, modelimizi test etmek için elimizde kurtulup kurtulamadı bilgisi bulunan veri seti gereklidir.\n",
        "\n",
        "Aşağıdaki tek satırlık kod, eğitim setinin %20'lik kısmını test etmek için, kalan %80'lik kısmını ise test setine ayrımaktadır. \"train_X\" ve \"train_y\" eğitim sırasında kullanılmıştır. \"test_X\" ve \"test_y\" ise test sırasında kullanılmıştır. Sonunda \"X\" bulunan setlerde kişilerin kurtulup/kurtulmadığı bilgisi yoktur. Bu bilgi sadece \"y\" ile biten setlerde bulunmaktadır."
      ]
    },
    {
      "cell_type": "markdown",
      "metadata": {
        "id": "0L873lA6L2on"
      },
      "source": [
        "*Önemsiz Not: Neden orijinal verideki test setinde kimin ölüp ölmediği bilgisi yer almamakta? Çünkü bu veri seti aslında bir yarışma için hazırlanmıştı. Yarışmada test seti katılımcılara etiketler olmadan sunuldu.*"
      ]
    },
    {
      "cell_type": "code",
      "metadata": {
        "id": "WwtSGJlpuFeH"
      },
      "source": [
        "X_train, X_test, y_train, y_test = train_test_split(one_hot_encoded_training_predictors, train_label, test_size=0.20)"
      ],
      "execution_count": 18,
      "outputs": []
    },
    {
      "cell_type": "markdown",
      "metadata": {
        "id": "fylbo4I8vI4O"
      },
      "source": [
        "### Keras kütüphanesi ile makine öğrenmesi modelinin oluşturulması:"
      ]
    },
    {
      "cell_type": "code",
      "metadata": {
        "id": "qHqSom945tbO"
      },
      "source": [
        "model = Sequential() # Önce modelin ne olduğunu tanımla."
      ],
      "execution_count": 20,
      "outputs": []
    },
    {
      "cell_type": "code",
      "metadata": {
        "id": "lklmS5Uv7zdf"
      },
      "source": [
        "#Birinci gizli katman\n",
        "model.add(Dense(256, activation='relu',kernel_initializer='normal', input_dim=X_train.shape[1]))\n",
        "#İkinci gizli katman\n",
        "model.add(Dense(128,kernel_initializer='normal', activation='relu'))\n",
        "#Üçüncü gizli katman\n",
        "model.add(Dense(64,kernel_initializer='normal', activation='relu'))\n",
        "#Dördüncü gizli katman\n",
        "model.add(Dense(32,kernel_initializer='normal', activation='relu'))\n",
        "#Çıktı katmanı\n",
        "model.add(Dense(1,kernel_initializer='normal', activation='sigmoid'))"
      ],
      "execution_count": 21,
      "outputs": []
    },
    {
      "cell_type": "markdown",
      "metadata": {
        "id": "l-5UPJLLnnVN"
      },
      "source": [
        "**GENEL KÜLTÜR:** API (Application programming interface) yazılım programlama arayüzü anlamına gelir. İşleri sizin için biraz daha kolaylaştırmak adına oluşturulmuş, görsel veya metinsel arayüzlerdir. Keras kütüphanesinde iki farklı API yardımı ile yapay zeka modelinizi oluşturabilirsiniz. Bunlardan birisi \"*Sequential*\" API (sıralı) diğeri ise \"*Functional*\" API (fonksiyonel). \"*Sequential*\" API, katman katman (input layer, hidden layer, output layer) modeli oluşturmanıza olanak sağlar. Kullanımı çok kolaydır. Ancak \"*Sequential*\" (sıralı) olmasından ötürü \"*Functional*\" API'ye göre kısıtlıdır. Çünkü \"*Functional*\" API ile sıralı katmanlar oluşturmak yerine iç içe geçmiş katmanlar oluşturulabilir. Örneğin, arada bulunan bir gizli katman (hidden layer), sadece kendinden önce ve sonra gelen katmanlara değil belki 3 katman sonrasınada doğrudan bağlantılı olabilir. Ya da basit bir dille anlatacak olursak; bir katman sadece 2 katmana değil 2 den daha fazla katmana bağlantısı olabilir. \n",
        "\n",
        "**Sequential Model**\n",
        ">![Sequential](https://miro.medium.com/max/546/1*x1bZ9rUu9994-07ihFJsQA.jpeg)\n",
        "\n",
        "**Functional Model**\n",
        ">![Functional](https://miro.medium.com/max/1142/1*cR8tQeL9VKDfdAOuNn5aeA.jpeg)"
      ]
    },
    {
      "cell_type": "code",
      "metadata": {
        "id": "VdKfUJ2zmgRf"
      },
      "source": [
        "#model = Sequential()"
      ],
      "execution_count": null,
      "outputs": []
    },
    {
      "cell_type": "markdown",
      "metadata": {
        "id": "_G38uIq_mho_"
      },
      "source": [
        "Yukarıda bulunan örneğe bakınca kafanız biraz karışabilir ve bu durum gayet doğaldır. \"*Sequential*\" API ile hazırlandığı için her şey çok sade bir şekilde kullanılmıştır. Şimdi size tek tek neyin ne olduğunu açıklayacağım.\n",
        "\n",
        "```\n",
        "model.add()\n",
        "```\n",
        "Bu komut ile oluşturduğunuz modele katmanlar ekleyebilirsiniz. Yukarıdaki örnekte tek tip katman (*Dense*) kullanılmıştır ancak Keras'ta çok çeşitli (Dropout, Flatten, vb.) katmanlar bulunmaktadır. Tüm katmanlara şu linkten ulaşabilirsiniz: [link](https://keras.io/layers/core/). İlk katmanda neler kullanılmış inceleyelim:\n",
        "\n",
        "```\n",
        "model.add(Dense(256, activation='relu',kernel_initializer='normal', input_dim=X_train.shape[1]))\n",
        "```\n",
        "Burada bir \"Dense\" katmanı kullanılmış. Dense, en basit ve herkesin aslında bildiği bir katmandır. Yapay sinir ağı denilince ilk akla gelen, hatta bu not defterininde en başında bulunan \"Peki, derin öğrenmeyi derin yapan nedir?\" başlığı altındaki resimde de gördüğünüz, her düşey noktalar bir \"Dense\" katmanıdır. Bu katmanın özelliklerini inceleyelim:\n",
        "\n",
        "```\n",
        "Dense(256, activation='relu',kernel_initializer='normal', input_dim=X_train.shape[1])\n",
        "```\n",
        "256 sayısı, bu katmanda toplamda kaç adet nöron olacağını tanımlıyor. Diğer katmanlara bakacak olursanız, her katman başlangıcında bu şekilde bir tam sayı göreceksiniz. Her katmanda nöron sayısını tanımlamak zorundasınız. Peki bu sayı kaç olmalı? Bunu söylemek ya da matematiksel olarak formüle etmek imkansızdır. Sorundan soruna, veri tipine, sayısına, model yapısında ve birçok parametreye bağlıdır. Denemeden bilmek neredeyse imkansızdır. Makine öğrenmesi modellerini aslında bir \"kara kutu\" yapanda budur. İçeride ne olup bittiğini anlamak gerçekten çok zordur ve doktora düzeyinde çalışmalara konu olmuştur, olmayada devam etmektedir. **Kısacası**: **DENEYİN**! \n",
        "\n",
        "```\n",
        "activation='relu'\n",
        "```\n",
        "Burada ise, şu anda bahsi geçen katman için hangi aktivasyon fonksiyonunun kullanılacağı tanımlanmaktadır. ReLu, özellike bunun gibi gizli (hidden) katmanlarda en sık kullanılan aktivasyon foknsiyonudur. Eğer aktivasyon foknsiyonu olarak ne koyacağınıza ilk başta karar veremezsiniz ilk tercihiniz ReLu olsun (sadece gizli katmanlar için geçerli). Aktivasyon fonksiyonları hakkında daha detaylı bilgi isterseniz şu güzel yazıyı okumanızı tavsiye ederim **TÜRKÇE!**. [Link](https://medium.com/@ayyucekizrak/derin-%C3%B6%C4%9Frenme-i%C3%A7in-aktivasyon-fonksiyonlar%C4%B1n%C4%B1n-kar%C5%9F%C4%B1la%C5%9Ft%C4%B1r%C4%B1lmas%C4%B1-cee17fd1d9cd)...\n",
        "\n",
        "\n",
        "\n",
        "```\n",
        "kernel_initializer='normal'\n",
        "```\n",
        "Şimdilik buna çok değinmeyeceğim. Bu parametre çok can alıcı olmasada daha çok \"hassas bir ayar\" olarak kabul edilir. Yinede kısaca bahsedecek olursak; oluşturmuş olduğunuz modelin içerisine önceden tanımlı ağırlık (weight) değerlerinin bulunması gerekir. `kernel_initializer` parametresi, daha eğitime hiç başlanmamış iken, bu ağırlık değerlerinin ne olacağına karar verir. Burada ben normal dağılımı seçtiğimde daha başarılı sonuçlar elde ettim. Ancak probleme göre değişebileceği için siz isterseniz sadece 0'lardan ya da sadece 1'lerden ya da belki çok daha farklı bir şekilde tanımlayabilirsiniz. Tüm muhtemel seçenekler [şu linktedir](https://keras.io/initializers/). **Ancak dediğim gibi: bu parametre en son kafanıza takmanız gereken bir şey.**\n",
        "\n",
        "\n",
        "\n",
        "```\n",
        "input_dim=X_train.shape[1]\n",
        "```\n",
        "Yukarıdaki modele dikkat ettiyseniz bir girdi katmanının tanımlanmadığını görürsünüz. Bunun nedeni ise girdi katmanı için gerekli olan (olabilecek) herhangi bir parametreye ihtiyaç olmamasıdır. Bu nedenle \"*Sequential*\" API sizden sadece ilk gizli katman (hidden layer) için gelen verinin şeklini (shape) ister ve gerisini kendi halleder. **Peki gelen verinin şekli nedir? ** Biliyorum, sizin için biraz kafa karıştırıcı olabilir ancak girdi katmanında bizi ilgilendiren tek şekil gelen verideki özelliklerin (features) sayısıdır, kaç tane girdi (yolcu) olduğu değil. \"Özellikler mi?!\" Evet, özellikler. Bizim veri setimizde özellikler **Verinin Özeti** başlığı altında gösterilmiştir. Örneğin \"Age\" (yaş), \"Ticket\"(bilet), \"Cabin\" (kabin numarası) gibi... Ve son bir şey: yine dikkat edecek olursanız `input_dim` sadece ilk gizli katmanda bulunmaktadır. İlk katman haricindeki katmanlara gelen verinin şekli siz farkında olmadan \"*Sequential*\" API sizin yerinize hesaplar ve bildirir. Diğer katmanlarda bu bilgiyi siz vermek zorunda kalmazsınız.\n",
        "\n",
        "\n",
        "\n",
        "\n",
        "\n"
      ]
    },
    {
      "cell_type": "code",
      "metadata": {
        "id": "paVdhZxPx-9D"
      },
      "source": [
        "#Modelin derlenmesi\n",
        "model.compile(optimizer ='adam',loss='binary_crossentropy', metrics =['accuracy'])\n"
      ],
      "execution_count": 22,
      "outputs": []
    },
    {
      "cell_type": "markdown",
      "metadata": {
        "id": "pl9UWXZZ9oIY"
      },
      "source": [
        "`model.compile()` komutu ile özelliklerini belirlediğimiz modeli artık derliyoruz (tüm özellikleri ile oluşturutoruz). Burada yine çeşitli parametreler bulunmaktadır:\n",
        "\n",
        "```\n",
        "optimizer ='adam'\n",
        "```\n",
        "Yine çok fazla detaya girmeden: Bu parametre sizin modelinizin yapmış olduğu tahminler sonucunda ortaya çıkan hataya (kayıp-loss) göre ara katmanlarda bulunan ağırlık (weight) parametresini ne şekilde düzenleyeceğini belirleyen bir parametredir. Kısacası; Optimizerler modelinizin daha doğru sonuç vermesi için modelinizdeki ağırlık parametrelerini düzenleyen araçlardır. Bu parametrenin ne olacağına karar veremez iseniz sizede `'adam'` seçerek başlamınızı tavsiye ederim. Tüm optimizerlere [şu linkten ulaşabilirsiniz](https://keras.io/optimizers/).\n",
        "\n",
        "\n",
        "\n",
        "```\n",
        "loss='binary_crossentropy'\n",
        "```\n",
        "`loss` en önemli parametrelerden biridir. Hatta en önemlisidir diyebiliriz. `loss` içinde tanımladığınız fonksiyon sizin modelinizin eğitim sırasında yapmış olduğu tahminlerde ne kadar hata yaptığını anlamasını sağlayacaktır. Bu nedenle doğru kayıp fonksiyonu kullanılması çok önemlidir. **Peki hangi** `loss` **fonksiyonu hangi sorunlar için kullanılmalıdır?** Aşağıda problem türlerine göre çeşitli tavsiyeler bulabilirsiniz. Kullanılabilecek tüm fonksiyonlar için [link](https://keras.io/losses/)...\n",
        "\n",
        "\n",
        "\n",
        "1.   Regresyon Kayıp Fonksiyonları\n",
        "  1. Mean Squared Error (MSE- Ortalama Kareler Hatası)\n",
        "  2. Mean Squared Logarithmic Error \n",
        "  3. Mean Absolute Error \n",
        "2.   İkili (binary) Sınıflandırma (Bizim şu anki bu, 1-0, kurtuldu-öldü)\n",
        "  1. Binary Cross-Entrophy\n",
        "  2. Hinge Loss\n",
        "  3. Squared Hinge Loss\n",
        "3. Multi-Class (çok sınıflı) Sınıflandırma \n",
        "  1. Multi-Class Cross-Entropy Loss\n",
        "  2. Sparse Multiclass Cross-Entropy Loss\n",
        "  3. Kullback Leibler Divergence Loss\n",
        "\n",
        "\n",
        "\n",
        "```\n",
        "metrics =['accuracy']\n",
        "```\n",
        "\n",
        "`metrics` parametresi aslında `loss` ile neredeyse birebir benzerdir. Sizin modelinizin eğitim sırasında ne kadar başarılı (ya da başarısız) olduğunu söyler. `loss` parametresinin aksine `metrics` sonuçları eğitim sırasında kullanılmaz. Sadece kullanıcıya bilgi vermek amaçlıdır. Kullanılabilecek seçenekler ve detaylı bilgi şu [linktedir](https://keras.io/metrics/). \n",
        "\n",
        "\n",
        "\n",
        "\n",
        "\n"
      ]
    },
    {
      "cell_type": "markdown",
      "metadata": {
        "id": "Kt2r4irNH0zK"
      },
      "source": [
        "Modelin neye benzediğini görelim:"
      ]
    },
    {
      "cell_type": "code",
      "metadata": {
        "id": "F65Jw552zgcQ",
        "colab": {
          "base_uri": "https://localhost:8080/"
        },
        "outputId": "66ee8f36-22f7-4f95-bcad-ca101749e96f"
      },
      "source": [
        "model.summary()"
      ],
      "execution_count": 23,
      "outputs": [
        {
          "output_type": "stream",
          "text": [
            "Model: \"sequential\"\n",
            "_________________________________________________________________\n",
            "Layer (type)                 Output Shape              Param #   \n",
            "=================================================================\n",
            "dense (Dense)                (None, 256)               4352      \n",
            "_________________________________________________________________\n",
            "dense_1 (Dense)              (None, 128)               32896     \n",
            "_________________________________________________________________\n",
            "dense_2 (Dense)              (None, 64)                8256      \n",
            "_________________________________________________________________\n",
            "dense_3 (Dense)              (None, 32)                2080      \n",
            "_________________________________________________________________\n",
            "dense_4 (Dense)              (None, 1)                 33        \n",
            "=================================================================\n",
            "Total params: 47,617\n",
            "Trainable params: 47,617\n",
            "Non-trainable params: 0\n",
            "_________________________________________________________________\n"
          ],
          "name": "stdout"
        }
      ]
    },
    {
      "cell_type": "markdown",
      "metadata": {
        "id": "NStWDQhIH8JF"
      },
      "source": [
        "`model.fit()` komutu ile oluşturduğumuz modelin eğitimini başlatıyoruz. Buradaki parametreler:\n",
        "\n",
        "\n",
        "\n",
        "```\n",
        "X_train\n",
        "```\n",
        "Eğitim sırasında kullanılacak olan ve daha önce etikerler (1-0, kurtuldu-öldü) bilgisi içinden çıkarılmış veri seti. Model bu veri setindeki bilgileri (özellikleri-features) kullanarak bilgileri verilmiş kişilerin kurtuluğunu ya da öldüğünü tahmin etmeye çalışacak. Her tahminin doğru olup olmadığını anlamak için ise `y_train` parametresinde bulunan bilgiye bakacak.\n",
        "\n",
        "\n",
        "\n",
        "```\n",
        "y_train\n",
        "```\n",
        "Eğitim sırasında kullanılacak olan ve içerisinde sadece etiketlerin (1-0, kurtuldu-öldü) bilgisinin yer aldığı veri seti.\n",
        "\n",
        "\n",
        "\n",
        "```\n",
        "batch_size=4\n",
        "```\n",
        "Bu parametre tek seferde kaç adet girdinin (kaç kişinin) eğitimde kullanılacağını tanımlar. Örneğin şu anda bu değer 4 olarak tanımlanmıştır. Model eğitimi sırasında ilk önce ilk 4 satır (girdi, kişi) alınır ve modelin katmanları arasından geçirilerek model eğitilir. Modelin bir tahmin yapması istenir. Modelin hatasına göre katmanlardaki ağırlıklar (weight) düzenlenir. Hemen ardından ise ikinci 4 girdi (kişi) seçilir ve biraz önce anlatıldığı gibi model bu seferde bu yeni 4 kişi ile eğitilir. Veri setindeki bütün girdiler (kişiler) bitinceye kadar bu işlem tekrar edilir. Bu parametreye atanan tam sayı ne kadar büyük ise RAM tüketimi o kadar fazla, eğitim o kadar hızlı ancak aynı zamanda eğitim o kadar kaba (coarse?), yani ince elenmemiş sık dokunmamış olacaktır. Ancak unutmayınızki eğitim sırasında çok ince elemek iyi bir şey olmayabilir. Bu nedenle bu parametreyi deneyerek belirlemeniz gerekir.\n",
        "\n",
        "\n",
        "\n",
        "```\n",
        "epochs=50\n",
        "```\n",
        "Bu parametre ile `epoch` sayısı belirlenir. 1 *epoch* geçmesi demek, bütün veri setinizdeki girdilerin modeliniz tarafından yalnızca 1 kez görülmesi demektir. Yani `epochs=50` demeniz, elinizdeki veri setini 50 kez modelin eğitimi için kullanmak istediğiniz anlamına gelir. Bu tamsayının kaç olacağı probleme ve kullanılan veriye bağlıdır. Bu sayının yüksek olması eğitim süresini uzatır. Aynı zamanda aşırı yüksek (probleme göre değişir aşırılık) `epoch` değeri modelinizin sizin verinizi ezberlemesine (overfitting-aşırı uyum göstermeye) neden olur. Yani, sizin verinizi o kadar çok görürki yalnızca sizin eğitim sırasında kullandığınız veriye doğru cevap vermeye çalışır. Bambaşka bir veri kullanıldığında ise saçmalar. \n",
        "\n",
        "\n",
        "\n"
      ]
    },
    {
      "cell_type": "code",
      "metadata": {
        "id": "dp60if4YypLG",
        "colab": {
          "base_uri": "https://localhost:8080/"
        },
        "outputId": "164e1828-e7c7-4947-819d-cea2bfb16b74"
      },
      "source": [
        "# Modelin eğitimini başlat\n",
        "model.fit(X_train, y_train, batch_size=5, epochs=50)"
      ],
      "execution_count": 24,
      "outputs": [
        {
          "output_type": "stream",
          "text": [
            "Epoch 1/50\n",
            "143/143 [==============================] - 4s 2ms/step - loss: 0.6164 - accuracy: 0.6910\n",
            "Epoch 2/50\n",
            "143/143 [==============================] - 0s 2ms/step - loss: 0.5737 - accuracy: 0.6994\n",
            "Epoch 3/50\n",
            "143/143 [==============================] - 0s 2ms/step - loss: 0.5317 - accuracy: 0.7500\n",
            "Epoch 4/50\n",
            "143/143 [==============================] - 0s 2ms/step - loss: 0.5162 - accuracy: 0.7598\n",
            "Epoch 5/50\n",
            "143/143 [==============================] - 0s 2ms/step - loss: 0.4970 - accuracy: 0.7823\n",
            "Epoch 6/50\n",
            "143/143 [==============================] - 0s 2ms/step - loss: 0.4828 - accuracy: 0.7739\n",
            "Epoch 7/50\n",
            "143/143 [==============================] - 0s 2ms/step - loss: 0.4600 - accuracy: 0.7893\n",
            "Epoch 8/50\n",
            "143/143 [==============================] - 0s 2ms/step - loss: 0.4573 - accuracy: 0.7935\n",
            "Epoch 9/50\n",
            "143/143 [==============================] - 0s 2ms/step - loss: 0.4525 - accuracy: 0.8076\n",
            "Epoch 10/50\n",
            "143/143 [==============================] - 0s 2ms/step - loss: 0.4662 - accuracy: 0.8244\n",
            "Epoch 11/50\n",
            "143/143 [==============================] - 0s 2ms/step - loss: 0.4429 - accuracy: 0.8048\n",
            "Epoch 12/50\n",
            "143/143 [==============================] - 0s 2ms/step - loss: 0.4448 - accuracy: 0.8132\n",
            "Epoch 13/50\n",
            "143/143 [==============================] - 0s 2ms/step - loss: 0.4362 - accuracy: 0.8272\n",
            "Epoch 14/50\n",
            "143/143 [==============================] - 0s 2ms/step - loss: 0.4491 - accuracy: 0.7992\n",
            "Epoch 15/50\n",
            "143/143 [==============================] - 0s 2ms/step - loss: 0.4323 - accuracy: 0.8118\n",
            "Epoch 16/50\n",
            "143/143 [==============================] - 0s 2ms/step - loss: 0.4213 - accuracy: 0.8244\n",
            "Epoch 17/50\n",
            "143/143 [==============================] - 0s 2ms/step - loss: 0.4293 - accuracy: 0.8132\n",
            "Epoch 18/50\n",
            "143/143 [==============================] - 0s 2ms/step - loss: 0.4366 - accuracy: 0.8272\n",
            "Epoch 19/50\n",
            "143/143 [==============================] - 0s 3ms/step - loss: 0.4223 - accuracy: 0.8174\n",
            "Epoch 20/50\n",
            "143/143 [==============================] - 0s 2ms/step - loss: 0.4300 - accuracy: 0.8146\n",
            "Epoch 21/50\n",
            "143/143 [==============================] - 0s 2ms/step - loss: 0.4227 - accuracy: 0.8216\n",
            "Epoch 22/50\n",
            "143/143 [==============================] - 0s 2ms/step - loss: 0.4333 - accuracy: 0.8076\n",
            "Epoch 23/50\n",
            "143/143 [==============================] - 0s 2ms/step - loss: 0.4205 - accuracy: 0.8048\n",
            "Epoch 24/50\n",
            "143/143 [==============================] - 0s 2ms/step - loss: 0.4090 - accuracy: 0.8244\n",
            "Epoch 25/50\n",
            "143/143 [==============================] - 0s 2ms/step - loss: 0.4197 - accuracy: 0.8244\n",
            "Epoch 26/50\n",
            "143/143 [==============================] - 0s 2ms/step - loss: 0.4225 - accuracy: 0.8160\n",
            "Epoch 27/50\n",
            "143/143 [==============================] - 0s 2ms/step - loss: 0.4102 - accuracy: 0.8287\n",
            "Epoch 28/50\n",
            "143/143 [==============================] - 0s 2ms/step - loss: 0.4073 - accuracy: 0.8258\n",
            "Epoch 29/50\n",
            "143/143 [==============================] - 0s 2ms/step - loss: 0.4221 - accuracy: 0.8174\n",
            "Epoch 30/50\n",
            "143/143 [==============================] - 0s 2ms/step - loss: 0.4038 - accuracy: 0.8230\n",
            "Epoch 31/50\n",
            "143/143 [==============================] - 0s 2ms/step - loss: 0.4057 - accuracy: 0.8258\n",
            "Epoch 32/50\n",
            "143/143 [==============================] - 0s 2ms/step - loss: 0.4070 - accuracy: 0.8287\n",
            "Epoch 33/50\n",
            "143/143 [==============================] - 0s 2ms/step - loss: 0.4160 - accuracy: 0.8048\n",
            "Epoch 34/50\n",
            "143/143 [==============================] - 0s 2ms/step - loss: 0.4149 - accuracy: 0.8230\n",
            "Epoch 35/50\n",
            "143/143 [==============================] - 0s 2ms/step - loss: 0.4071 - accuracy: 0.8287\n",
            "Epoch 36/50\n",
            "143/143 [==============================] - 0s 2ms/step - loss: 0.4035 - accuracy: 0.8258\n",
            "Epoch 37/50\n",
            "143/143 [==============================] - 0s 2ms/step - loss: 0.4109 - accuracy: 0.8230\n",
            "Epoch 38/50\n",
            "143/143 [==============================] - 0s 2ms/step - loss: 0.4064 - accuracy: 0.8244\n",
            "Epoch 39/50\n",
            "143/143 [==============================] - 0s 2ms/step - loss: 0.4033 - accuracy: 0.8315\n",
            "Epoch 40/50\n",
            "143/143 [==============================] - 0s 2ms/step - loss: 0.3910 - accuracy: 0.8329\n",
            "Epoch 41/50\n",
            "143/143 [==============================] - 0s 2ms/step - loss: 0.3892 - accuracy: 0.8371\n",
            "Epoch 42/50\n",
            "143/143 [==============================] - 0s 2ms/step - loss: 0.3997 - accuracy: 0.8230\n",
            "Epoch 43/50\n",
            "143/143 [==============================] - 0s 2ms/step - loss: 0.3964 - accuracy: 0.8329\n",
            "Epoch 44/50\n",
            "143/143 [==============================] - 0s 2ms/step - loss: 0.4023 - accuracy: 0.8287\n",
            "Epoch 45/50\n",
            "143/143 [==============================] - 0s 2ms/step - loss: 0.3924 - accuracy: 0.8315\n",
            "Epoch 46/50\n",
            "143/143 [==============================] - 0s 2ms/step - loss: 0.3965 - accuracy: 0.8202\n",
            "Epoch 47/50\n",
            "143/143 [==============================] - 0s 2ms/step - loss: 0.4344 - accuracy: 0.8287\n",
            "Epoch 48/50\n",
            "143/143 [==============================] - 0s 2ms/step - loss: 0.3905 - accuracy: 0.8357\n",
            "Epoch 49/50\n",
            "143/143 [==============================] - 0s 2ms/step - loss: 0.3885 - accuracy: 0.8371\n",
            "Epoch 50/50\n",
            "143/143 [==============================] - 0s 2ms/step - loss: 0.3947 - accuracy: 0.8216\n"
          ],
          "name": "stdout"
        },
        {
          "output_type": "execute_result",
          "data": {
            "text/plain": [
              "<tensorflow.python.keras.callbacks.History at 0x7fd730067a10>"
            ]
          },
          "metadata": {
            "tags": []
          },
          "execution_count": 24
        }
      ]
    },
    {
      "cell_type": "markdown",
      "metadata": {
        "id": "Lq_XnKB25ovo"
      },
      "source": [
        "### Evaluate (Ölçmek)"
      ]
    },
    {
      "cell_type": "markdown",
      "metadata": {
        "id": "WQWO3zeZ9HU5"
      },
      "source": [
        "`model.evaluate()` ile `model.predict()` komutları arasında aslında çok büyük farklılıklar yoktur. `model.evaluate()` komutu, eğitimi tamamlanmış olan modelin yapmış olduğu tahminlerin doğruluğunu ölçüp, kullanıcıya yalnızca bu doğruluk değerini geri sunan bir fonksiyondur. `model.predict()` komutunda ise kullanıcıya yapılan tahminlerin doğruluğu değil, eğitilmiş modelin yaptığı tahminler gösteririlir (return edilir). Dikkat edecek olursanız, `model.predict()` adımında (bundan sonraki adım) girdi olarak etiketler (1-0, kurtuldu-öldü, `y_test`) verilmemiştir. Ancak daha sonraki adımlarda, yapılan tahminlerin doğruluğu manuel olarak ölçülmüştür. Bütün bu işlemlerin sonucunda `model.predict()` komutu aslında `model.evaluate()` ile aynı işlevi görmüştür. **Peki madem** `model.predict()` **ile manuel olarak doğruluk ölçümü aslında** `model.evaluate()` **ile aynı iken iki farklı fonksiyona ihtiyaç duyulmuştur?** Bizim durumumuzda aslında sadece `model.evaluate()` de kullanılabilirdi. Ancak her zaman her sorunda elinizde etiketler olmayacak. Zaten eğitimi tamamlanmış bir modeli alıp aslında cevabını bilmediğiniz bir veri setinde, sorununuza çözüm olması için kullanacaksınız. **Bu nedenle gerçek hayatta, siz sadece modelinizin yaptığı tahminlere bakabileceksiniz, çünkü elinizde etiketler olmayacak!**"
      ]
    },
    {
      "cell_type": "code",
      "metadata": {
        "id": "Qk3Yvn-X5ji9",
        "colab": {
          "base_uri": "https://localhost:8080/"
        },
        "outputId": "edd1e9f5-ed52-4748-a185-21de8e1c4398"
      },
      "source": [
        "eval_model = model.evaluate(X_train, y_train)"
      ],
      "execution_count": 25,
      "outputs": [
        {
          "output_type": "stream",
          "text": [
            "23/23 [==============================] - 0s 2ms/step - loss: 0.3808 - accuracy: 0.8315\n"
          ],
          "name": "stdout"
        }
      ]
    },
    {
      "cell_type": "markdown",
      "metadata": {
        "id": "gJO6K3ZY6D2p"
      },
      "source": [
        "### Predict (Tahmin et)\n",
        "Üst başlıkta (Evaluate) açıklanmıştır."
      ]
    },
    {
      "cell_type": "code",
      "metadata": {
        "id": "e3kUNzVL6p5y",
        "colab": {
          "base_uri": "https://localhost:8080/"
        },
        "outputId": "30f2b187-e7d4-4c49-8585-f2e562877960"
      },
      "source": [
        "#print(y_test)  \n",
        "eval_model = model.evaluate(X_test, y_test)"
      ],
      "execution_count": 26,
      "outputs": [
        {
          "output_type": "stream",
          "text": [
            "6/6 [==============================] - 0s 3ms/step - loss: 0.3257 - accuracy: 0.8659\n"
          ],
          "name": "stdout"
        }
      ]
    },
    {
      "cell_type": "code",
      "metadata": {
        "id": "CHOkyqiXdToY"
      },
      "source": [
        "y_pred = model.predict(X_test)\n"
      ],
      "execution_count": null,
      "outputs": []
    },
    {
      "cell_type": "code",
      "metadata": {
        "id": "ja6pgJKtfxGQ"
      },
      "source": [
        "y_pred"
      ],
      "execution_count": null,
      "outputs": []
    },
    {
      "cell_type": "code",
      "metadata": {
        "id": "UJ24mfM66VGA",
        "colab": {
          "base_uri": "https://localhost:8080/",
          "height": 185
        },
        "outputId": "c297ec42-e438-49a5-b4cc-8c97d089fd76"
      },
      "source": [
        "print(y_pred[:10])"
      ],
      "execution_count": null,
      "outputs": [
        {
          "output_type": "stream",
          "text": [
            "[[5.0395024e-01]\n",
            " [7.8293788e-01]\n",
            " [1.0000000e+00]\n",
            " [1.2814007e-06]\n",
            " [4.5726188e-03]\n",
            " [7.1611989e-01]\n",
            " [1.0000000e+00]\n",
            " [9.6133202e-01]\n",
            " [1.6588399e-01]\n",
            " [3.3450138e-03]]\n"
          ],
          "name": "stdout"
        }
      ]
    },
    {
      "cell_type": "markdown",
      "metadata": {
        "id": "DTfpvbQW6LtX"
      },
      "source": [
        "**ÖNEMLİ NOT:** Alt tarafta OneHot encoding nedeniyle şöyle yapıldı, böyle edildi şeklinde bir şeyler anlatılıyor. Sizin kodunuzda OneHot encoding olmayabilir. Bu durumda aşağıda bahsi geçen işlemlere ihtiyacınız olmayacaktır."
      ]
    },
    {
      "cell_type": "markdown",
      "metadata": {
        "id": "SDIlCIGY7OSh"
      },
      "source": [
        "*OneHot encoding* nedeniyle, model tarafından yapılan tahminler kesin değil olasılıksaldır. Yani, bir kişi öldü mü yoksa kurtuldu mu sorusuna model, öldü (0) ya da kurtuldu (1) **demek yerine** her iki durum içinde **olasılık** verir. Örneğin, 1 (kurtuldu) için 0.79 derken 0 (öldü) için 0.21 der. (Yukarıda görünen çıktının nedeni budur.) **Peki bu durumda, kişi kurtuldu mu yoksa öldü mü? Kim karar verecek? Nasıl olacak?** Burada kullanıcının bir karar mekanizması geliştirmesi gerekir. Bu tarz *binary* (1-0) sınıflandırma sorularında sık olarak 0.5, eşik değeri olarak belirlenir ve 0.5 üzerinde hangi sınıf kalıyorsa (1'mi 0'mı?) o durum geçerlidir denir. Biraz önce bahsi geçen örnekte, kişi 0.79 ihtimalle yaşayacak, 0.21 ihtimalle ölecekti. 0.5 eşik değeri olarak kabul edlirse kişinin yaşadığı kabul edilir (0.21[0] < 0.5 < 0.79[1]). Bu kabul etme işlemi bir alt satırda (komut satırında) gerçekleştirilmiştir. Soru olarak kişi kurtuldumu sorulmuş gibi hayal edecek olursanız, bir alt satırdaki `print()` fonksiyonunun çıktısı sizin için daha anlamlı olacaktır. `True`, evet kurtuldu demek iken `False`, kişi kurtulamadı demektir."
      ]
    },
    {
      "cell_type": "code",
      "metadata": {
        "id": "HBO6sVI86wX_"
      },
      "source": [
        "y_pred = (y_pred>0.5)"
      ],
      "execution_count": null,
      "outputs": []
    },
    {
      "cell_type": "code",
      "metadata": {
        "id": "6bun_Ett6W3P",
        "colab": {
          "base_uri": "https://localhost:8080/",
          "height": 185
        },
        "outputId": "6fad6b62-25e9-4457-89b7-117aaf538e42"
      },
      "source": [
        "print(y_pred[:10])"
      ],
      "execution_count": null,
      "outputs": [
        {
          "output_type": "stream",
          "text": [
            "[[ True]\n",
            " [ True]\n",
            " [ True]\n",
            " [False]\n",
            " [False]\n",
            " [ True]\n",
            " [ True]\n",
            " [ True]\n",
            " [False]\n",
            " [False]]\n"
          ],
          "name": "stdout"
        }
      ]
    },
    {
      "cell_type": "markdown",
      "metadata": {
        "id": "y4X25CPN7gh7"
      },
      "source": [
        "### Sonuçlar"
      ]
    },
    {
      "cell_type": "markdown",
      "metadata": {
        "id": "FxomdgsM6fau"
      },
      "source": [
        "**Confusion Matrix**"
      ]
    },
    {
      "cell_type": "code",
      "metadata": {
        "id": "ztgK0dAK7UuX",
        "colab": {
          "base_uri": "https://localhost:8080/",
          "height": 50
        },
        "outputId": "41522f5b-ad68-4f8a-bb0a-49101c9198f7"
      },
      "source": [
        "confusion_matrix(y_test, y_pred)"
      ],
      "execution_count": null,
      "outputs": [
        {
          "output_type": "execute_result",
          "data": {
            "text/plain": [
              "array([[97, 19],\n",
              "       [24, 39]])"
            ]
          },
          "metadata": {
            "tags": []
          },
          "execution_count": 50
        }
      ]
    },
    {
      "cell_type": "markdown",
      "metadata": {
        "id": "LY8LRjTy6j3V"
      },
      "source": [
        "**Genel Sonuç Raporu**"
      ]
    },
    {
      "cell_type": "code",
      "metadata": {
        "id": "2mFlgOji81-a",
        "colab": {
          "base_uri": "https://localhost:8080/",
          "height": 118
        },
        "outputId": "4dcfdaf4-7028-43f3-9a57-c3299f184bfd"
      },
      "source": [
        "report = classification_report(y_pred, y_test, output_dict=True)\n",
        "df = pd.DataFrame(report).transpose()\n",
        "print(df)"
      ],
      "execution_count": null,
      "outputs": [
        {
          "output_type": "stream",
          "text": [
            "              precision    recall  f1-score     support\n",
            "False          0.836207  0.801653  0.818565  121.000000\n",
            "True           0.619048  0.672414  0.644628   58.000000\n",
            "accuracy       0.759777  0.759777  0.759777    0.759777\n",
            "macro avg      0.727627  0.737033  0.731597  179.000000\n",
            "weighted avg   0.765842  0.759777  0.762206  179.000000\n"
          ],
          "name": "stdout"
        }
      ]
    },
    {
      "cell_type": "markdown",
      "metadata": {
        "id": "JkqugNdJ6n99"
      },
      "source": [
        "**Sadece Accuracy**"
      ]
    },
    {
      "cell_type": "code",
      "metadata": {
        "id": "5vyeLTMYGi35"
      },
      "source": [
        "accuracy_score(y_pred, y_test)"
      ],
      "execution_count": null,
      "outputs": []
    },
    {
      "cell_type": "code",
      "metadata": {
        "id": "_cw0DhPaT0eh"
      },
      "source": [
        "import os"
      ],
      "execution_count": null,
      "outputs": []
    },
    {
      "cell_type": "code",
      "metadata": {
        "id": "oD8waBiKT9My"
      },
      "source": [
        "os.makedirs(\"deneme\")"
      ],
      "execution_count": null,
      "outputs": []
    },
    {
      "cell_type": "code",
      "metadata": {
        "id": "CWkqFjABUJIw"
      },
      "source": [
        "os.make"
      ],
      "execution_count": null,
      "outputs": []
    }
  ]
}